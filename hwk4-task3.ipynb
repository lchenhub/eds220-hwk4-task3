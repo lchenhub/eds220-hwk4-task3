{
 "cells": [
  {
   "cell_type": "markdown",
   "id": "5c84568e-f023-4289-8d77-65c4a8e2cb98",
   "metadata": {},
   "source": [
    "# HW 4-Task 3 (Air Quality Index Data + False color image)\n",
    "\n",
    "Author: Liane Chen\n",
    "\n",
    "GitHub link: https://github.com/lchenhub/eds220-hwk4-task3.git\n"
   ]
  },
  {
   "cell_type": "markdown",
   "id": "2c17ec4c-b910-485b-b771-cbe4d6bb2ffe",
   "metadata": {
    "tags": []
   },
   "source": [
    "## About"
   ]
  },
  {
   "cell_type": "markdown",
   "id": "6ab80e22-0765-4e87-9fcc-1a7593e579a8",
   "metadata": {
    "tags": []
   },
   "source": [
    "### Purpose\n",
    "In this notebook, we use Air Quality Index (AQI) data from the US Environmental Protection Agency to visualize the impact on the AQI of the 2017 Thomas Fire in Santa Barbara County. We also will create a false color image showing the fire scar of the Thomas fire in 2017. "
   ]
  },
  {
   "cell_type": "markdown",
   "id": "45cfa539-7a8c-4fc7-bbf1-0a3411533439",
   "metadata": {},
   "source": [
    "### Highlights\n",
    "- Fetch vector data from an online repository\n",
    "- Data wrangling and exploration of with pandas\n",
    "- Geospatial data wrangling with geopandas\n",
    "- Creating and customizing a line plot\n",
    "- Creating and customizing a false color image\n"
   ]
  },
  {
   "cell_type": "markdown",
   "id": "fa5ee36b-c833-44f6-ab7f-46a5c4d7708c",
   "metadata": {},
   "source": [
    "### Dataset description\n",
    "\n",
    "In this notebook we use three datasets:\n",
    "\n",
    "1)  Air Quality Index (AQI) data from the US Environmental Protection Agency \n",
    "\n",
    "The first dataset contains information about EPA's index for reporting air quality.\n",
    "\n",
    "For each pollutant an AQI value of 100 generally corresponds to an ambient air concentration that equals the level of the short-term national ambient air quality standard for protection of public health. AQI values at or below 100 are generally thought of as satisfactory. When AQI values are above 100, air quality is unhealthy: at first for certain sensitive groups of people, then for everyone as AQI values get higher.\n",
    "\n",
    "The AQI is divided into six categories. Each category corresponds to a different level of health concern.\n",
    "\n",
    "2) Landsat data\n",
    "\n",
    "The second dataset is a simplified collection of bands (red, green, blue, near-infrared and shortwave infrared) from the Landsat Collection 2 Level-2 atmosperically corrected surface reflectance data, collected by the Landsat 8 satellite.\n",
    "\n",
    "Information about Landsat bands from USGS:\n",
    "\n",
    "What are the band designations for the Landsat satellites?\n",
    "-Common Landsat Band Combinations\n",
    "\n",
    "-How do I use a scale factor with Landsat Level-2 science products?\n",
    "\n",
    "The data was accessed and pre-processed in the Microsoft Planetary Computer to remove data outside land and coarsen the spatial resolution (Landsat Collection in MPC). Data should be used for visualization purposes only.\n",
    "\n",
    "3) Shapefile of fire perimeters\n",
    "\n",
    "The third dataset is a shapefile of fire perimeters in California during 2017. The complete file can be accessed in the CA state geoportal here: https://gis.data.ca.gov/datasets/CALFIRE-Forestry::california-fire-perimeters-all-1/about"
   ]
  },
  {
   "cell_type": "markdown",
   "id": "0966f61b-2be6-4122-b8a8-14af7b63cbce",
   "metadata": {},
   "source": [
    "### References"
   ]
  },
  {
   "cell_type": "markdown",
   "id": "a994b221-db5d-402e-ac3a-60ee2bc403e2",
   "metadata": {
    "tags": []
   },
   "source": [
    "AirNow. (2021b). Air Quality Index (AQI) Basics. Retrieved from www.airnow.gov website: https://www.airnow.gov/aqi/aqi-basics/\n",
    "\n",
    "Wikipedia Contributors. (2019, October 6). Thomas Fire. Retrieved from Wikipedia website: https://en.wikipedia.org/wiki/Thomas_Fire\n",
    "\n",
    "California Fire Perimeters (all). (n.d.). Retrieved November 29, 2023, from gis.data.ca.gov website: https://gis.data.ca.gov/datasets/CALFIRE-Forestry::california-fire-perimeters-all-1/about\n",
    "\n",
    "Microsoft Planetary Computer. Planetary Computer. (n.d.). https://planetarycomputer.microsoft.com/dataset/landsat-c2-l2))"
   ]
  }
 ],
 "metadata": {
  "kernelspec": {
   "display_name": "Anaconda 3 (Base)",
   "language": "python",
   "name": "base"
  },
  "language_info": {
   "codemirror_mode": {
    "name": "ipython",
    "version": 3
   },
   "file_extension": ".py",
   "mimetype": "text/x-python",
   "name": "python",
   "nbconvert_exporter": "python",
   "pygments_lexer": "ipython3",
   "version": "3.9.13"
  }
 },
 "nbformat": 4,
 "nbformat_minor": 5
}
