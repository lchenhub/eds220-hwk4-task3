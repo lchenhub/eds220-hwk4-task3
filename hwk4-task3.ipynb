{
 "cells": [
  {
   "cell_type": "markdown",
   "id": "5c84568e-f023-4289-8d77-65c4a8e2cb98",
   "metadata": {},
   "source": [
    "# HW 4-Task 3 (Air Quality Index Data + False color image)\n",
    "\n",
    "Author: Liane Chen\n",
    "\n",
    "GitHub link: https://github.com/lchenhub/eds220-hwk4-task3.git\n"
   ]
  },
  {
   "cell_type": "markdown",
   "id": "2c17ec4c-b910-485b-b771-cbe4d6bb2ffe",
   "metadata": {
    "tags": []
   },
   "source": [
    "## About"
   ]
  },
  {
   "cell_type": "markdown",
   "id": "6ab80e22-0765-4e87-9fcc-1a7593e579a8",
   "metadata": {
    "tags": []
   },
   "source": [
    "### Purpose\n",
    "In this notebook, we use Air Quality Index (AQI) data from the US Environmental Protection Agency to visualize the impact on the AQI of the 2017 Thomas Fire in Santa Barbara County. We also will create a false color image showing the fire scar of the Thomas fire in 2017. "
   ]
  },
  {
   "cell_type": "markdown",
   "id": "45cfa539-7a8c-4fc7-bbf1-0a3411533439",
   "metadata": {},
   "source": [
    "### Highlights\n",
    "- Fetch vector data from an online repository\n",
    "- Data wrangling and exploration of with pandas\n",
    "- Geospatial data wrangling with geopandas\n",
    "- Creating and customizing a line plot\n",
    "- Creating and customizing a false color image\n"
   ]
  },
  {
   "cell_type": "markdown",
   "id": "fa5ee36b-c833-44f6-ab7f-46a5c4d7708c",
   "metadata": {},
   "source": [
    "### Dataset description\n",
    "\n",
    "In this notebook we use three datasets:\n",
    "\n",
    "1)  Air Quality Index (AQI) data from the US Environmental Protection Agency \n",
    "\n",
    "The first dataset contains information about EPA's index for reporting air quality.\n",
    "\n",
    "For each pollutant an AQI value of 100 generally corresponds to an ambient air concentration that equals the level of the short-term national ambient air quality standard for protection of public health. AQI values at or below 100 are generally thought of as satisfactory. When AQI values are above 100, air quality is unhealthy: at first for certain sensitive groups of people, then for everyone as AQI values get higher.\n",
    "\n",
    "The AQI is divided into six categories. Each category corresponds to a different level of health concern.\n",
    "\n",
    "2) Landsat data\n",
    "\n",
    "The second dataset is a simplified collection of bands (red, green, blue, near-infrared and shortwave infrared) from the Landsat Collection 2 Level-2 atmosperically corrected surface reflectance data, collected by the Landsat 8 satellite.\n",
    "\n",
    "Information about Landsat bands from USGS:\n",
    "\n",
    "What are the band designations for the Landsat satellites?\n",
    "-Common Landsat Band Combinations\n",
    "\n",
    "-How do I use a scale factor with Landsat Level-2 science products?\n",
    "\n",
    "The data was accessed and pre-processed in the Microsoft Planetary Computer to remove data outside land and coarsen the spatial resolution (Landsat Collection in MPC). Data should be used for visualization purposes only.\n",
    "\n",
    "3) Shapefile of fire perimeters\n",
    "\n",
    "The third dataset is a shapefile of fire perimeters in California during 2017. The complete file can be accessed in the CA state geoportal here: https://gis.data.ca.gov/datasets/CALFIRE-Forestry::california-fire-perimeters-all-1/about"
   ]
  },
  {
   "cell_type": "markdown",
   "id": "0966f61b-2be6-4122-b8a8-14af7b63cbce",
   "metadata": {},
   "source": [
    "### References to datasets"
   ]
  },
  {
   "cell_type": "markdown",
   "id": "a994b221-db5d-402e-ac3a-60ee2bc403e2",
   "metadata": {
    "tags": []
   },
   "source": [
    "AirNow. (2021b). Air Quality Index (AQI) Basics. Retrieved from www.airnow.gov website: https://www.airnow.gov/aqi/aqi-basics/\n",
    "\n",
    "Wikipedia Contributors. (2019, October 6). Thomas Fire. Retrieved from Wikipedia website: https://en.wikipedia.org/wiki/Thomas_Fire\n",
    "\n",
    "California Fire Perimeters (all). (n.d.). Retrieved November 29, 2023, from gis.data.ca.gov website: https://gis.data.ca.gov/datasets/CALFIRE-Forestry::california-fire-perimeters-all-1/about\n",
    "\n",
    "Microsoft Planetary Computer. Planetary Computer. (n.d.). https://planetarycomputer.microsoft.com/dataset/landsat-c2-l2))"
   ]
  },
  {
   "cell_type": "code",
   "execution_count": 4,
   "id": "302ddcb9-5d06-4b13-b501-42a8437e602a",
   "metadata": {
    "tags": []
   },
   "outputs": [],
   "source": [
    "## Importing data\n",
    "\n",
    "import pandas as pd\n",
    "import matplotlib.pyplot as plt\n",
    "\n",
    "import os\n",
    "import numpy as np\n",
    "import matplotlib.pyplot as plt\n",
    "\n",
    "import rioxarray as rioxr\n",
    "\n",
    "import geopandas as gpd\n",
    "from shapely.geometry import Polygon\n",
    "\n",
    "# read in files using pd.read_csv\n",
    "aqi_17 = pd.read_csv('https://aqs.epa.gov/aqsweb/airdata/daily_aqi_by_county_2017.zip')\n",
    "aqi_18 = pd.read_csv('https://aqs.epa.gov/aqsweb/airdata/daily_aqi_by_county_2018.zip')"
   ]
  },
  {
   "cell_type": "code",
   "execution_count": null,
   "id": "37358d91-56e8-4e8f-878c-f396785000cb",
   "metadata": {},
   "outputs": [],
   "source": [
    "## \n",
    "\n",
    "### ===== FINAL CODE =====\n",
    "\n",
    "#2017 Daily AQI by County URL\n",
    "#https://aqs.epa.gov/aqsweb/airdata/daily_aqi_by_county_2017.zip\n",
    "\n",
    "#2018 Daily AQI by County URL\n",
    "#https://aqs.epa.gov/aqsweb/airdata/daily_aqi_by_county_2018.zip\n",
    "\n",
    "\n",
    "\n",
    "#select only data from SB county\n",
    "aqi_sb = aqi[aqi['county_name'] == 'Santa Barbara']\n",
    "\n",
    "#remove state_name, county_name, state_code and county_code columns \n",
    "aqi_sb.drop(['state_name', 'county_name', 'state_code', 'county_code'], axis=1)\n",
    "\n",
    "#use pd.to_datetime to update date column to be a datetime object from object\n",
    "aqi_sb.date = pd.to_datetime(aqi_sb.date)\n",
    "\n",
    "#update index\n",
    "aqi_sb = aqi_sb.set_index(\"date\")\n",
    "\n",
    "#datatype (dtype) is datetime64[ns]\n",
    "\n",
    "# rolling() is a method for pandas.series that provides rolling window calculations\n",
    "# the parameter '5D' indicates we want the window to be 5 days\n",
    "# This is a lazy method (think groupby), we need to specify what we want to calculate over each window\n",
    "# here we add the aggregator function mean()\n",
    "# this indicates we want the mean over each window\n",
    "# and we get a pd.Series as ouput\n",
    "aqi_sb.aqi.rolling('5D').mean()\n",
    "\n",
    "# add mean of 5-day avg as new column with [] and .mean\n",
    "aqi_sb['five_day_average'] = aqi_sb.aqi.rolling('5D').mean()\n",
    "\n",
    "# plot daily AQI and 5-day avg\n",
    "\n",
    "#initialize plot\n",
    "plt.figure()\n",
    "\n",
    "#plot with 5-day avg on top of the AQI and customize labels and colors\n",
    "aqi_sb.plot(y=['aqi', 'five_day_average'], title='AQI levels in SB', color = ['pink', 'yellow'])\n",
    "\n",
    "#The Thomas fire event in December of 2017 is visable on the plot as a high spike. \n",
    "\n",
    "#---------------------\n",
    "### ===== FINAL CODE =====\n",
    "\n",
    "#import librarys and functions needed\n",
    "import os\n",
    "import numpy as np\n",
    "import matplotlib.pyplot as plt\n",
    "\n",
    "import rioxarray as rioxr\n",
    "\n",
    "import geopandas as gpd\n",
    "from shapely.geometry import Polygon\n",
    "\n",
    "landsat = os.path.join(os.getcwd(),'data','landsat8-2018-01-26-sb-simplified.nc') #define path\n",
    "landsat = rioxr.open_rasterio(landsat) #import\n",
    "\n",
    "fire = gpd.read_file('data/California_Fire_Perimeters_2017/California_Fire_Perimeters_2017.shp')\n"
   ]
  },
  {
   "cell_type": "code",
   "execution_count": 5,
   "id": "28d9591c-820b-466b-b410-cb54abb95eb5",
   "metadata": {
    "collapsed": true,
    "jupyter": {
     "outputs_hidden": true
    },
    "tags": []
   },
   "outputs": [
    {
     "ename": "NameError",
     "evalue": "name 'landsat' is not defined",
     "output_type": "error",
     "traceback": [
      "\u001b[0;31m---------------------------------------------------------------------------\u001b[0m",
      "\u001b[0;31mNameError\u001b[0m                                 Traceback (most recent call last)",
      "\u001b[0;32m/tmp/ipykernel_1645183/2128870695.py\u001b[0m in \u001b[0;36m<module>\u001b[0;34m\u001b[0m\n\u001b[1;32m      2\u001b[0m \u001b[0;34m\u001b[0m\u001b[0m\n\u001b[1;32m      3\u001b[0m \u001b[0;31m#look at table\u001b[0m\u001b[0;34m\u001b[0m\u001b[0;34m\u001b[0m\u001b[0m\n\u001b[0;32m----> 4\u001b[0;31m \u001b[0mlandsat\u001b[0m\u001b[0;34m\u001b[0m\u001b[0;34m\u001b[0m\u001b[0m\n\u001b[0m\u001b[1;32m      5\u001b[0m \u001b[0;34m\u001b[0m\u001b[0m\n\u001b[1;32m      6\u001b[0m \u001b[0;31m# update column names to small caps\u001b[0m\u001b[0;34m\u001b[0m\u001b[0;34m\u001b[0m\u001b[0m\n",
      "\u001b[0;31mNameError\u001b[0m: name 'landsat' is not defined"
     ]
    }
   ],
   "source": [
    "## Explore data\n",
    "\n",
    "#look at first 5 rows of aqi_17\n",
    "aqi_17.head()\n",
    "\n",
    "#look at first 5 rows of aqi_18\n",
    "aqi_18.head()\n",
    "\n",
    "#use .info to explore data. date is an object.\n",
    "aqi_17.info()\n",
    "aqi_18.info()\n",
    "\n",
    "#---------------\n",
    "#look at table\n",
    "landsat\n",
    "\n",
    "# update column names to small caps\n",
    "fire.columns = fire.columns.str.lower()\n",
    "\n",
    "#look at first 5 rows\n",
    "fire.head()\n",
    "\n",
    "# print information about the CRS\n",
    "fire.crs\n",
    "\n",
    "# check whether the CRSs match\n",
    "landsat.rio.crs == fire.crs\n",
    "\n",
    "# see what the CRS for landsat is\n",
    "landsat.rio.crs\n"
   ]
  },
  {
   "cell_type": "code",
   "execution_count": null,
   "id": "bffeeaa8-b7a7-4727-a8fa-e05f07092c23",
   "metadata": {},
   "outputs": [],
   "source": [
    "## Update data\n",
    "\n",
    "# concatenate two dataframes\n",
    "aqi = pd.concat([aqi_17, aqi_18])\n",
    "\n",
    "# see initial column names: notice caps and spaces (difficult to work with!)\n",
    "aqi.columns, '\\n'\n",
    "\n",
    "# re-assign the column names - .str.lower() makes them lower case\n",
    "aqi.columns = aqi.columns.str.lower()\n",
    "aqi.columns, '\\n'\n",
    "\n",
    "#  re-assign the column names again - .str.replace(' ','_') replaces the space for _ \n",
    "aqi.columns = aqi.columns.str.replace(' ','_')\n",
    "aqi.columns, '\\n'\n",
    "\n",
    "# as a \"one liner\" you could achieve this column name cleaning like this:\n",
    "# aqi.columns = aqi.columns.str.lower().str.replace(' ','_')\n",
    "\n",
    "#select only data from SB county\n",
    "aqi_sb = aqi[aqi['county_name'] == 'Santa Barbara']\n",
    "\n",
    "#remove state_name, county_name, state_code and county_code columns \n",
    "aqi_sb.drop(['state_name', 'county_name', 'state_code', 'county_code'], axis=1)\n",
    "\n",
    "#use pd.to_datetime to update date column to be a datetime object from object\n",
    "aqi_sb.date = pd.to_datetime(aqi_sb.date)\n",
    "\n",
    "#update index\n",
    "aqi_sb = aqi_sb.set_index(\"date\")\n",
    "\n",
    "#datatype (dtype) is datetime64[ns]\n",
    "\n",
    "# rolling() is a method for pandas.series that provides rolling window calculations\n",
    "# the parameter '5D' indicates we want the window to be 5 days\n",
    "# This is a lazy method (think groupby), we need to specify what we want to calculate over each window\n",
    "# here we add the aggregator function mean()\n",
    "# this indicates we want the mean over each window\n",
    "# and we get a pd.Series as ouput\n",
    "aqi_sb.aqi.rolling('5D').mean()\n",
    "\n",
    "# add mean of 5-day avg as new column with [] and .mean\n",
    "aqi_sb['five_day_average'] = aqi_sb.aqi.rolling('5D').mean()\n",
    "\n",
    "\n",
    "#---------\n",
    "# convert the fire crs to match landsat crs\n",
    "fire = fire.to_crs(landsat.rio.crs)\n",
    "\n",
    "#check that crs now matches\n",
    "landsat.rio.crs == fire.crs\n",
    "\n",
    "# select thomas fire data\n",
    "thomas = fire.loc[fire['fire_name'] == \"THOMAS\"]\n",
    "\n",
    "#drop the band so we can plot later\n",
    "landsat = landsat.squeeze().drop('band')"
   ]
  },
  {
   "cell_type": "code",
   "execution_count": null,
   "id": "732a67b0-1b8d-4620-a096-c312615ddf77",
   "metadata": {},
   "outputs": [],
   "source": [
    "## Plot and create image\n",
    "\n",
    "# plot daily AQI and 5-day avg\n",
    "\n",
    "#initialize plot\n",
    "plt.figure()\n",
    "\n",
    "#plot with 5-day avg on top of the AQI and customize labels and colors\n",
    "aqi_sb.plot(y=['aqi', 'five_day_average'], title='AQI levels in SB', color = ['pink', 'yellow'])\n",
    "\n",
    "#The Thomas fire event in December of 2017 is visable on the plot as a high spike. \n",
    "\n",
    "#--------\n",
    "#select red, green, blue variables, convert to a numpy.array, and then plot\n",
    "landsat[['red','blue','green']].to_array().plot.imshow()\n",
    "\n",
    "#adjust the scale used to get a true color image\n",
    "landsat[['red','blue','green']].to_array().plot.imshow(robust = True)\n",
    "\n",
    "# create false color image\n",
    "landsat[['swir22', 'nir08', 'red']].to_array().plot.imshow(robust = True)\n",
    "\n",
    "#convert landsat CRS to match w fire CRS\n",
    "fire = fire.to_crs(landsat.rio.crs)\n",
    "\n",
    "# plot\n",
    "fig, ax = plt.subplots()\n",
    "\n",
    "#-----------------------------------------------------\n",
    "# plot Thomas fire on top of the landsat plot by plotting landsat first, then thomas\n",
    "landsat[['swir22', 'nir08', 'red']].to_array().plot.imshow(robust = True)\n",
    "\n",
    "thomas.plot(ax=ax, color = 'salmon', alpha = 0.5, edgecolor = 'purple')\n",
    "\n",
    "#set title name\n",
    "ax.set_title('Thomas Fire in SB County', fontsize=12)"
   ]
  }
 ],
 "metadata": {
  "kernelspec": {
   "display_name": "Anaconda 3 (Base)",
   "language": "python",
   "name": "base"
  },
  "language_info": {
   "codemirror_mode": {
    "name": "ipython",
    "version": 3
   },
   "file_extension": ".py",
   "mimetype": "text/x-python",
   "name": "python",
   "nbconvert_exporter": "python",
   "pygments_lexer": "ipython3",
   "version": "3.9.13"
  }
 },
 "nbformat": 4,
 "nbformat_minor": 5
}
